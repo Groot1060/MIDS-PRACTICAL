{
 "cells": [
  {
   "cell_type": "code",
   "execution_count": 1,
   "metadata": {
    "id": "1bfd3m7l5YVL"
   },
   "outputs": [],
   "source": [
    "#Write a program to recognize a document is positive or negative based on polarity words using suitable classification method. \n",
    "import nltk\n",
    "from nltk.tokenize import word_tokenize\n",
    "from nltk.corpus import stopwords\n",
    "from nltk.probability import FreqDist\n",
    "from nltk.classify import NaiveBayesClassifier"
   ]
  },
  {
   "cell_type": "code",
   "execution_count": 2,
   "metadata": {
    "id": "vV-TQSgj5cne"
   },
   "outputs": [],
   "source": [
    "positive_documents = [\"The movie was great and highly enjoyable.\", \"I loved the book; it was fantastic.\"]\n",
    "negative_documents = [\"The concert was terrible and disappointing.\", \"The service at the restaurant was awful.\"]\n",
    "\n",
    "# Combine positive and negative documents into one list\n",
    "documents = [(doc, \"Positive\") for doc in positive_documents] + [(doc, \"Negative\") for doc in negative_documents]"
   ]
  },
  {
   "cell_type": "code",
   "execution_count": 3,
   "metadata": {
    "colab": {
     "base_uri": "https://localhost:8080/"
    },
    "id": "wUuGOIsY5cpp",
    "outputId": "7327aea4-57ab-47f4-990e-f6c1e19f750b"
   },
   "outputs": [
    {
     "name": "stderr",
     "output_type": "stream",
     "text": [
      "[nltk_data] Downloading package punkt to\n",
      "[nltk_data]     C:\\Users\\kisho\\AppData\\Roaming\\nltk_data...\n",
      "[nltk_data]   Package punkt is already up-to-date!\n",
      "[nltk_data] Downloading package stopwords to\n",
      "[nltk_data]     C:\\Users\\kisho\\AppData\\Roaming\\nltk_data...\n",
      "[nltk_data]   Package stopwords is already up-to-date!\n"
     ]
    }
   ],
   "source": [
    "nltk.download('punkt')\n",
    "nltk.download('stopwords')\n",
    "# Tokenize and preprocess the documents\n",
    "all_words = []\n",
    "for document, sentiment in documents:\n",
    "    words = word_tokenize(document)\n",
    "    words = [word.lower() for word in words if word.isalpha() and word.lower() not in stopwords.words('english')]\n",
    "    all_words.extend(words)\n",
    "\n",
    "# Extract the most common words as features\n",
    "word_features = FreqDist(all_words).most_common(100)\n",
    "word_features = [word for word, _ in word_features]"
   ]
  },
  {
   "cell_type": "code",
   "execution_count": 4,
   "metadata": {
    "id": "4VNNlSDL5crF"
   },
   "outputs": [],
   "source": [
    "def document_features(document):\n",
    "    document_words = set(word_tokenize(document.lower()))\n",
    "    features = {}\n",
    "    for word in word_features:\n",
    "        features['contains({})'.format(word)] = (word in document_words)\n",
    "    return features\n",
    "\n",
    "# Generate feature sets for the documents\n",
    "feature_sets = [(document_features(doc), sentiment) for doc, sentiment in documents]"
   ]
  },
  {
   "cell_type": "code",
   "execution_count": 5,
   "metadata": {
    "id": "1tzqgQJI5ctL"
   },
   "outputs": [],
   "source": [
    "classifier = NaiveBayesClassifier.train(feature_sets)"
   ]
  },
  {
   "cell_type": "code",
   "execution_count": 6,
   "metadata": {
    "colab": {
     "base_uri": "https://localhost:8080/"
    },
    "id": "9V4ZCygB5cvZ",
    "outputId": "2f955606-a3c2-448c-c0bc-582363d5b43a"
   },
   "outputs": [
    {
     "name": "stdout",
     "output_type": "stream",
     "text": [
      "Document sentiment: Negative\n"
     ]
    }
   ],
   "source": [
    "# Example document to classify\n",
    "new_document = \"The movie was terrible and boring.\"\n",
    "\n",
    "# Preprocess and extract features from the new document\n",
    "new_features = document_features(new_document)\n",
    "\n",
    "# Classify the new document using the trained classifier\n",
    "classification = classifier.classify(new_features)\n",
    "print(\"Document sentiment:\", classification)"
   ]
  },
  {
   "cell_type": "code",
   "execution_count": null,
   "metadata": {
    "id": "WAIfLy3K5cxv"
   },
   "outputs": [],
   "source": []
  },
  {
   "cell_type": "code",
   "execution_count": null,
   "metadata": {
    "id": "UWsgJn7f55W1"
   },
   "outputs": [],
   "source": []
  },
  {
   "cell_type": "code",
   "execution_count": null,
   "metadata": {
    "id": "rnMeMpnD55ZX"
   },
   "outputs": [],
   "source": []
  },
  {
   "cell_type": "code",
   "execution_count": null,
   "metadata": {
    "id": "wiCJV34T55c2"
   },
   "outputs": [],
   "source": []
  }
 ],
 "metadata": {
  "colab": {
   "provenance": []
  },
  "kernelspec": {
   "display_name": "Python 3 (ipykernel)",
   "language": "python",
   "name": "python3"
  },
  "language_info": {
   "codemirror_mode": {
    "name": "ipython",
    "version": 3
   },
   "file_extension": ".py",
   "mimetype": "text/x-python",
   "name": "python",
   "nbconvert_exporter": "python",
   "pygments_lexer": "ipython3",
   "version": "3.11.9"
  }
 },
 "nbformat": 4,
 "nbformat_minor": 4
}
